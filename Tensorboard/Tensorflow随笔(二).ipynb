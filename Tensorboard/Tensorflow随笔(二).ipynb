{
 "cells": [
  {
   "cell_type": "code",
   "execution_count": 1,
   "metadata": {
    "collapsed": true
   },
   "outputs": [
    {
     "name": "stdout",
     "output_type": "stream",
     "text": [
      "Num GPUs Available:  1\n"
     ]
    }
   ],
   "source": [
    "import tensorflow as tf\n",
    "import datetime\n",
    "\n",
    "print(\"Num GPUs Available: \", len(tf.config.list_physical_devices('GPU')))\n",
    "\n",
    "physical_devices = tf.config.list_physical_devices('GPU')\n",
    "try:\n",
    "    # Disable first GPU\n",
    "    tf.config.set_visible_devices(physical_devices[0], 'GPU')\n",
    "    logical_devices = tf.config.list_logical_devices('GPU')\n",
    "    # Logical device was not created for first GPU\n",
    "    assert len(logical_devices) == len(physical_devices)\n",
    "except:\n",
    "    # Invalid device or cannot modify virtual devices once initialized.\n",
    "    pass"
   ]
  },
  {
   "cell_type": "code",
   "execution_count": 2,
   "outputs": [],
   "source": [
    "mnist = tf.keras.datasets.mnist\n",
    "\n",
    "(x_train, y_train), (x_test, y_test) = mnist.load_data()\n",
    "x_train, x_test = x_train / 255.0, x_test / 255.0"
   ],
   "metadata": {
    "collapsed": false,
    "pycharm": {
     "name": "#%%\n"
    }
   }
  },
  {
   "cell_type": "code",
   "execution_count": 3,
   "outputs": [],
   "source": [
    "AUTOTUNE = tf.data.AUTOTUNE\n",
    "\n",
    "train_dataset = tf.data.Dataset.from_tensor_slices((x_train, y_train))\n",
    "test_dataset = tf.data.Dataset.from_tensor_slices((x_test, y_test))\n",
    "\n",
    "train_dataset = train_dataset.shuffle(60000).batch(64)\n",
    "test_dataset = test_dataset.batch(64)"
   ],
   "metadata": {
    "collapsed": false,
    "pycharm": {
     "name": "#%%\n"
    }
   }
  },
  {
   "cell_type": "code",
   "execution_count": 4,
   "outputs": [],
   "source": [
    "loss_object = tf.keras.losses.SparseCategoricalCrossentropy()\n",
    "optimizer = tf.keras.optimizers.Adam()"
   ],
   "metadata": {
    "collapsed": false,
    "pycharm": {
     "name": "#%%\n"
    }
   }
  },
  {
   "cell_type": "code",
   "execution_count": 5,
   "outputs": [],
   "source": [
    "train_loss = tf.keras.metrics.Mean('train_loss', dtype=tf.float32)\n",
    "train_accuracy = tf.keras.metrics.SparseCategoricalAccuracy('train_accuracy')\n",
    "test_loss = tf.keras.metrics.Mean('test_loss', dtype=tf.float32)\n",
    "test_accuracy = tf.keras.metrics.SparseCategoricalAccuracy('test_accuracy')"
   ],
   "metadata": {
    "collapsed": false,
    "pycharm": {
     "name": "#%%\n"
    }
   }
  },
  {
   "cell_type": "code",
   "execution_count": 6,
   "outputs": [],
   "source": [
    "def train_step(model, optimizer, x_train, y_train):\n",
    "    with tf.GradientTape() as tape:\n",
    "        predictions = model(x_train, training=True)\n",
    "        loss = loss_object(y_train, predictions)\n",
    "    grads = tape.gradient(loss, model.trainable_variables)\n",
    "    optimizer.apply_gradients(zip(grads, model.trainable_variables))\n",
    "\n",
    "    train_loss(loss)\n",
    "    train_accuracy(y_train, predictions)"
   ],
   "metadata": {
    "collapsed": false,
    "pycharm": {
     "name": "#%%\n"
    }
   }
  },
  {
   "cell_type": "code",
   "execution_count": 7,
   "outputs": [],
   "source": [
    "def test_step(model, x_test, y_test):\n",
    "    predictions = model(x_test)\n",
    "    loss = loss_object(y_test, predictions)\n",
    "\n",
    "    test_loss(loss)\n",
    "    test_accuracy(y_test, predictions)"
   ],
   "metadata": {
    "collapsed": false,
    "pycharm": {
     "name": "#%%\n"
    }
   }
  },
  {
   "cell_type": "code",
   "execution_count": 8,
   "outputs": [],
   "source": [
    "current_time = datetime.datetime.now().strftime(\"%Y%m%d-%H%M%S\")\n",
    "train_log_dir = 'logs/gradient_tape/' + current_time + '/train'\n",
    "test_log_dir = 'logs/gradient_tape/' + current_time + '/test'\n",
    "train_summary_writer = tf.summary.create_file_writer(train_log_dir)\n",
    "test_summary_writer = tf.summary.create_file_writer(test_log_dir)"
   ],
   "metadata": {
    "collapsed": false,
    "pycharm": {
     "name": "#%%\n"
    }
   }
  },
  {
   "cell_type": "code",
   "execution_count": 9,
   "outputs": [],
   "source": [
    "def create_model():\n",
    "    return tf.keras.models.Sequential([\n",
    "        tf.keras.layers.Flatten(input_shape=(28, 28)),\n",
    "        tf.keras.layers.Dense(512, activation='relu'),\n",
    "        tf.keras.layers.Dropout(0.2),\n",
    "        tf.keras.layers.Dense(10, activation='softmax')\n",
    "    ])"
   ],
   "metadata": {
    "collapsed": false,
    "pycharm": {
     "name": "#%%\n"
    }
   }
  },
  {
   "cell_type": "code",
   "execution_count": 10,
   "outputs": [],
   "source": [
    "model = create_model()"
   ],
   "metadata": {
    "collapsed": false,
    "pycharm": {
     "name": "#%%\n"
    }
   }
  },
  {
   "cell_type": "code",
   "execution_count": 11,
   "outputs": [
    {
     "name": "stdout",
     "output_type": "stream",
     "text": [
      "Epoch 1, Loss: 0.24552594125270844, Accuracy: 92.82833099365234, Test Loss: 0.1183900311589241, Test Accuracy: 96.4800033569336\n",
      "Epoch 2, Loss: 0.10400832444429398, Accuracy: 96.8316650390625, Test Loss: 0.09798828512430191, Test Accuracy: 97.0199966430664\n",
      "Epoch 3, Loss: 0.07136962562799454, Accuracy: 97.836669921875, Test Loss: 0.06859268248081207, Test Accuracy: 97.93000030517578\n",
      "Epoch 4, Loss: 0.0560942105948925, Accuracy: 98.23833465576172, Test Loss: 0.0651865303516388, Test Accuracy: 97.94999694824219\n",
      "Epoch 5, Loss: 0.0432845763862133, Accuracy: 98.61833190917969, Test Loss: 0.06194380670785904, Test Accuracy: 98.11000061035156\n",
      "Epoch 6, Loss: 0.03632642328739166, Accuracy: 98.81500244140625, Test Loss: 0.06103438511490822, Test Accuracy: 98.04999542236328\n",
      "Epoch 7, Loss: 0.02910703979432583, Accuracy: 99.05166625976562, Test Loss: 0.0594552718102932, Test Accuracy: 98.18000030517578\n",
      "Epoch 8, Loss: 0.026429103687405586, Accuracy: 99.14833068847656, Test Loss: 0.05901149660348892, Test Accuracy: 98.18000030517578\n",
      "Epoch 9, Loss: 0.021958693861961365, Accuracy: 99.27166748046875, Test Loss: 0.06494490802288055, Test Accuracy: 98.20999908447266\n",
      "Epoch 10, Loss: 0.02058562822639942, Accuracy: 99.32333374023438, Test Loss: 0.06891714036464691, Test Accuracy: 98.16999816894531\n",
      "Epoch 11, Loss: 0.018852131441235542, Accuracy: 99.3933334350586, Test Loss: 0.06819362193346024, Test Accuracy: 98.22000122070312\n",
      "Epoch 12, Loss: 0.016921166330575943, Accuracy: 99.43666076660156, Test Loss: 0.06820426881313324, Test Accuracy: 98.25999450683594\n",
      "Epoch 13, Loss: 0.015440980903804302, Accuracy: 99.46666717529297, Test Loss: 0.07115372270345688, Test Accuracy: 98.18000030517578\n",
      "Epoch 14, Loss: 0.012071464210748672, Accuracy: 99.59833526611328, Test Loss: 0.06296975165605545, Test Accuracy: 98.47000122070312\n",
      "Epoch 15, Loss: 0.014436731114983559, Accuracy: 99.53166961669922, Test Loss: 0.0756523534655571, Test Accuracy: 98.31999969482422\n",
      "Epoch 16, Loss: 0.013015450909733772, Accuracy: 99.5816650390625, Test Loss: 0.06969759613275528, Test Accuracy: 98.3699951171875\n",
      "Epoch 17, Loss: 0.010141783393919468, Accuracy: 99.65333557128906, Test Loss: 0.07619375735521317, Test Accuracy: 98.33999633789062\n",
      "Epoch 18, Loss: 0.012141303159296513, Accuracy: 99.58833312988281, Test Loss: 0.06561162322759628, Test Accuracy: 98.41999816894531\n",
      "Epoch 19, Loss: 0.009175603277981281, Accuracy: 99.67666625976562, Test Loss: 0.07204129546880722, Test Accuracy: 98.31999969482422\n",
      "Epoch 20, Loss: 0.011469615623354912, Accuracy: 99.63166809082031, Test Loss: 0.06824246048927307, Test Accuracy: 98.22999572753906\n"
     ]
    }
   ],
   "source": [
    "EPOCHS = 20\n",
    "\n",
    "for epoch in range(EPOCHS):\n",
    "    for (x_train, y_train) in train_dataset:\n",
    "        train_step(model, optimizer, x_train, y_train)\n",
    "    with train_summary_writer.as_default():\n",
    "        tf.summary.scalar('loss', train_loss.result(), step=epoch)\n",
    "        tf.summary.scalar('accuracy', train_accuracy.result(), step=epoch)\n",
    "\n",
    "    for (x_test, y_test) in test_dataset:\n",
    "        test_step(model, x_test, y_test)\n",
    "    with test_summary_writer.as_default():\n",
    "        tf.summary.scalar('loss', test_loss.result(), step=epoch)\n",
    "        tf.summary.scalar('accuracy', test_accuracy.result(), step=epoch)\n",
    "\n",
    "    template = 'Epoch {}, Loss: {}, Accuracy: {}, Test Loss: {}, Test Accuracy: {}'\n",
    "    print(template.format(epoch + 1,\n",
    "                          train_loss.result(),\n",
    "                          train_accuracy.result() * 100,\n",
    "                          test_loss.result(),\n",
    "                          test_accuracy.result() * 100))\n",
    "\n",
    "    # Reset metrics every epoch\n",
    "    train_loss.reset_states()\n",
    "    test_loss.reset_states()\n",
    "    train_accuracy.reset_states()\n",
    "    test_accuracy.reset_states()"
   ],
   "metadata": {
    "collapsed": false,
    "pycharm": {
     "name": "#%%\n"
    }
   }
  },
  {
   "cell_type": "code",
   "execution_count": 11,
   "outputs": [],
   "source": [],
   "metadata": {
    "collapsed": false,
    "pycharm": {
     "name": "#%%\n"
    }
   }
  }
 ],
 "metadata": {
  "kernelspec": {
   "display_name": "Python 3",
   "language": "python",
   "name": "python3"
  },
  "language_info": {
   "codemirror_mode": {
    "name": "ipython",
    "version": 2
   },
   "file_extension": ".py",
   "mimetype": "text/x-python",
   "name": "python",
   "nbconvert_exporter": "python",
   "pygments_lexer": "ipython2",
   "version": "2.7.6"
  }
 },
 "nbformat": 4,
 "nbformat_minor": 0
}